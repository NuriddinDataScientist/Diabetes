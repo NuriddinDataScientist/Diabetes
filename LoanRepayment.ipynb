{
 "cells": [
  {
   "cell_type": "code",
   "execution_count": 1,
   "id": "6f6ab94f-b9ed-4372-8195-0ca1a0d51623",
   "metadata": {},
   "outputs": [],
   "source": [
    "import numpy as np\n",
    "import pandas as pd\n",
    "from sklearn.model_selection import train_test_split\n",
    "from sklearn.tree import DecisionTreeClassifier\n",
    "from sklearn.metrics import accuracy_score\n",
    "from sklearn.metrics import confusion_matrix\n",
    "from sklearn.metrics import classification_report\n",
    "from sklearn.preprocessing import StandardScaler\n",
    "from sklearn.preprocessing import LabelEncoder\n",
    "from sklearn import tree\n",
    "from sklearn import metrics\n",
    "import matplotlib.pyplot as plt"
   ]
  },
  {
   "cell_type": "code",
   "execution_count": 2,
   "id": "cce1dafc-9020-4922-b695-7de106f673fe",
   "metadata": {},
   "outputs": [],
   "source": [
    "df = pd.read_csv('DecisionTree.csv', sep = ',')"
   ]
  },
  {
   "cell_type": "code",
   "execution_count": 3,
   "id": "7531dddf-4711-4c1e-aaa3-af2aa08fe904",
   "metadata": {},
   "outputs": [
    {
     "data": {
      "text/html": [
       "<div>\n",
       "<style scoped>\n",
       "    .dataframe tbody tr th:only-of-type {\n",
       "        vertical-align: middle;\n",
       "    }\n",
       "\n",
       "    .dataframe tbody tr th {\n",
       "        vertical-align: top;\n",
       "    }\n",
       "\n",
       "    .dataframe thead th {\n",
       "        text-align: right;\n",
       "    }\n",
       "</style>\n",
       "<table border=\"1\" class=\"dataframe\">\n",
       "  <thead>\n",
       "    <tr style=\"text-align: right;\">\n",
       "      <th></th>\n",
       "      <th>Initial payment</th>\n",
       "      <th>Last payment</th>\n",
       "      <th>Credit Score</th>\n",
       "      <th>House Number</th>\n",
       "      <th>Result</th>\n",
       "    </tr>\n",
       "  </thead>\n",
       "  <tbody>\n",
       "    <tr>\n",
       "      <th>0</th>\n",
       "      <td>201</td>\n",
       "      <td>10018</td>\n",
       "      <td>250</td>\n",
       "      <td>3046</td>\n",
       "      <td>yes</td>\n",
       "    </tr>\n",
       "    <tr>\n",
       "      <th>1</th>\n",
       "      <td>205</td>\n",
       "      <td>10016</td>\n",
       "      <td>395</td>\n",
       "      <td>3044</td>\n",
       "      <td>yes</td>\n",
       "    </tr>\n",
       "    <tr>\n",
       "      <th>2</th>\n",
       "      <td>257</td>\n",
       "      <td>10129</td>\n",
       "      <td>109</td>\n",
       "      <td>3251</td>\n",
       "      <td>yes</td>\n",
       "    </tr>\n",
       "    <tr>\n",
       "      <th>3</th>\n",
       "      <td>246</td>\n",
       "      <td>10064</td>\n",
       "      <td>324</td>\n",
       "      <td>3137</td>\n",
       "      <td>yes</td>\n",
       "    </tr>\n",
       "    <tr>\n",
       "      <th>4</th>\n",
       "      <td>117</td>\n",
       "      <td>10115</td>\n",
       "      <td>496</td>\n",
       "      <td>3094</td>\n",
       "      <td>yes</td>\n",
       "    </tr>\n",
       "  </tbody>\n",
       "</table>\n",
       "</div>"
      ],
      "text/plain": [
       "   Initial payment  Last payment  Credit Score  House Number Result\n",
       "0              201         10018           250          3046    yes\n",
       "1              205         10016           395          3044    yes\n",
       "2              257         10129           109          3251    yes\n",
       "3              246         10064           324          3137    yes\n",
       "4              117         10115           496          3094    yes"
      ]
     },
     "execution_count": 3,
     "metadata": {},
     "output_type": "execute_result"
    }
   ],
   "source": [
    "df.head()"
   ]
  },
  {
   "cell_type": "code",
   "execution_count": null,
   "id": "211571b4-d19c-49c1-88c5-2067f118cd72",
   "metadata": {},
   "outputs": [],
   "source": [
    "print(\"Dataset Length: \" , len(df))\n",
    "print(\"Dataset Shape: \", df.shape)"
   ]
  },
  {
   "cell_type": "code",
   "execution_count": null,
   "id": "f55bda4a-7d7b-429c-95c7-3994035f6ae8",
   "metadata": {},
   "outputs": [],
   "source": [
    "i=0\n",
    "x=0\n",
    "for col in df['Result']:\n",
    "     if col == 'yes':\n",
    "       i+=1\n",
    "\n",
    "     else:\n",
    "         x+=1\n",
    "i,x"
   ]
  },
  {
   "cell_type": "code",
   "execution_count": null,
   "id": "38689218-6b35-4a17-b08c-d6fb2e33866c",
   "metadata": {},
   "outputs": [],
   "source": [
    "df.Result.value_counts()"
   ]
  },
  {
   "cell_type": "markdown",
   "id": "865a1673-4198-4efe-8e37-ac352a51829e",
   "metadata": {},
   "source": [
    "Splitting data two part: features and Labels"
   ]
  },
  {
   "cell_type": "code",
   "execution_count": null,
   "id": "52dfc586-2841-4ee0-8e9c-4fb66a9c9f5b",
   "metadata": {},
   "outputs": [],
   "source": [
    "X = df.values[:, 0:4]\n",
    "Y = df.values[:, 4]\n",
    "\n",
    "encoder = LabelEncoder()\n",
    "Y = encoder.fit_transform(Y)\n"
   ]
  },
  {
   "cell_type": "markdown",
   "id": "4df57aca-4a42-471e-8193-b6e8ca943b3d",
   "metadata": {},
   "source": [
    "## Splitting Dataset into Test and Train"
   ]
  },
  {
   "cell_type": "code",
   "execution_count": null,
   "id": "8348ec84-fa55-42cd-b0d8-b483311a6ba7",
   "metadata": {},
   "outputs": [],
   "source": [
    "X_train, X_test, y_train, y_test = train_test_split(X, Y, test_size =0.3, random_state=100)\n",
    "scaler = StandardScaler()\n",
    "X_train=scaler.fit_transform(X_train)\n",
    "X_test=scaler.transform(X_test)"
   ]
  },
  {
   "cell_type": "code",
   "execution_count": null,
   "id": "45cedb2c-911f-4df2-b595-c23f7a64b0af",
   "metadata": {},
   "outputs": [],
   "source": [
    "count_of_Yes = np.sum(y_train == 1)\n",
    "count_of_No = np.sum(y_train == 0)\n",
    "\n",
    "print(f\"Count of Yes: {count_of_Yes}\\nCount of No: {count_of_No}\")"
   ]
  },
  {
   "cell_type": "markdown",
   "id": "4c1dec15-c28a-4c8e-aef2-6281319e3f1c",
   "metadata": {},
   "source": [
    "### Function to perform training with Entropy"
   ]
  },
  {
   "cell_type": "code",
   "execution_count": null,
   "id": "ddaf2f25-4ddf-46f2-9f85-1871a87657d1",
   "metadata": {},
   "outputs": [],
   "source": [
    "clf_entropy = DecisionTreeClassifier(criterion = 'entropy', random_state = 100,\n",
    "                                     max_depth = 3, min_samples_leaf= 5)\n",
    "clf_entropy.fit(X_train, y_train)"
   ]
  },
  {
   "cell_type": "code",
   "execution_count": null,
   "id": "fbe1d606-38a4-4cc2-8f91-489d7b0df5cd",
   "metadata": {},
   "outputs": [],
   "source": [
    "y_pred_en = clf_entropy.predict(X_test)\n",
    "y_pred_en"
   ]
  },
  {
   "cell_type": "code",
   "execution_count": null,
   "id": "96f4a535-bb76-4d3e-b29c-ede741021128",
   "metadata": {},
   "outputs": [],
   "source": [
    "print(classification_report(y_test, y_pred_en))\n",
    "confusion_matrix(y_test, y_pred_en)"
   ]
  },
  {
   "cell_type": "code",
   "execution_count": null,
   "id": "50e6b691-5145-4cd3-a462-aa3c856de32f",
   "metadata": {},
   "outputs": [],
   "source": [
    "print('Accuracy is ', accuracy_score(y_test, y_pred_en)*100)"
   ]
  },
  {
   "cell_type": "code",
   "execution_count": null,
   "id": "c75cfc69-5f7d-4016-8d56-69ed9eb203b3",
   "metadata": {},
   "outputs": [],
   "source": [
    "##ROC  curve\n",
    "\n",
    "fpr, tpr, thresholds = metrics.roc_curve(y_test, y_pred_en)\n",
    "roc_auc = metrics.auc(fpr, tpr)\n",
    "display = metrics.RocCurveDisplay(fpr=fpr, tpr=tpr, roc_auc=roc_auc, estimator_name='ROC curve')\n",
    "display.plot()\n",
    "plt.show()"
   ]
  },
  {
   "cell_type": "code",
   "execution_count": null,
   "id": "6721f537-217e-4afe-b120-193ad1664f69",
   "metadata": {},
   "outputs": [],
   "source": []
  }
 ],
 "metadata": {
  "kernelspec": {
   "display_name": "Anaconda",
   "language": "python",
   "name": "base"
  },
  "language_info": {
   "codemirror_mode": {
    "name": "ipython",
    "version": 3
   },
   "file_extension": ".py",
   "mimetype": "text/x-python",
   "name": "python",
   "nbconvert_exporter": "python",
   "pygments_lexer": "ipython3",
   "version": "3.11.7"
  }
 },
 "nbformat": 4,
 "nbformat_minor": 5
}
