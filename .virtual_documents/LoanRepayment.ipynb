import numpy as np
import pandas as pd
from sklearn.model_selection import train_test_split
from sklearn.tree import DecisionTreeClassifier
from sklearn.metrics import accuracy_score
from sklearn.metrics import confusion_matrix
from sklearn.metrics import classification_report
from sklearn.preprocessing import StandardScaler
from sklearn.preprocessing import LabelEncoder
from sklearn import tree
from sklearn import metrics
import matplotlib.pyplot as plt


df = pd.read_csv('DecisionTree.csv', sep = ',')


df.head()


print("Dataset Length: " , len(df))
print("Dataset Shape: ", df.shape)


i=0
x=0
for col in df['Result']:
     if col == 'yes':
       i+=1

     else:
         x+=1
i,x


df.Result.value_counts()





X = df.values[:, 0:4]
Y = df.values[:, 4]

encoder = LabelEncoder()
Y = encoder.fit_transform(Y)






X_train, X_test, y_train, y_test = train_test_split(X, Y, test_size =0.3, random_state=100)
scaler = StandardScaler()
X_train=scaler.fit_transform(X_train)
X_test=scaler.transform(X_test)


count_of_Yes = np.sum(y_train == 1)
count_of_No = np.sum(y_train == 0)

print(f"Count of Yes: {count_of_Yes}\nCount of No: {count_of_No}")





clf_entropy = DecisionTreeClassifier(criterion = 'entropy', random_state = 100,
                                     max_depth = 3, min_samples_leaf= 5)
clf_entropy.fit(X_train, y_train)


y_pred_en = clf_entropy.predict(X_test)
y_pred_en


print(classification_report(y_test, y_pred_en))
confusion_matrix(y_test, y_pred_en)


print('Accuracy is ', accuracy_score(y_test, y_pred_en)*100)


##ROC  curve

fpr, tpr, thresholds = metrics.roc_curve(y_test, y_pred_en)
roc_auc = metrics.auc(fpr, tpr)
display = metrics.RocCurveDisplay(fpr=fpr, tpr=tpr, roc_auc=roc_auc, estimator_name='ROC curve')
display.plot()
plt.show()






